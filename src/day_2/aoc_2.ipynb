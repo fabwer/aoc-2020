{
 "metadata": {
  "language_info": {
   "codemirror_mode": {
    "name": "ipython",
    "version": 3
   },
   "file_extension": ".py",
   "mimetype": "text/x-python",
   "name": "python",
   "nbconvert_exporter": "python",
   "pygments_lexer": "ipython3",
   "version": "3.9.0-final"
  },
  "orig_nbformat": 2,
  "kernelspec": {
   "name": "python3",
   "display_name": "Python 3.9.0 64-bit",
   "metadata": {
    "interpreter": {
     "hash": "aee8b7b246df8f9039afb4144a1f6fd8d2ca17a180786b69acc140d282b71a49"
    }
   }
  }
 },
 "nbformat": 4,
 "nbformat_minor": 2,
 "cells": [
  {
   "source": [
    "## Day 2\n"
   ],
   "cell_type": "markdown",
   "metadata": {}
  },
  {
   "cell_type": "code",
   "execution_count": 1,
   "metadata": {
    "tags": []
   },
   "outputs": [
    {
     "output_type": "stream",
     "name": "stdout",
     "text": [
      "640\n472\n"
     ]
    }
   ],
   "source": [
    "import re\n",
    "\n",
    "from aoc_2_utils import read_string_from_txt, contains_min_max, contains_exact_position_once\n",
    "\n",
    "passwords = read_string_from_txt('aoc_2_data.txt')\n",
    "\n",
    "print(len([x for x in passwords if contains_min_max(re.split('-| |: ', x))]))\n",
    "\n",
    "print(len([x for x in passwords if contains_exact_position_once(re.split('-| |: ', x))]))\n"
   ]
  },
  {
   "cell_type": "code",
   "execution_count": null,
   "metadata": {},
   "outputs": [],
   "source": []
  }
 ]
}