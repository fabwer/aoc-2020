{
 "metadata": {
  "language_info": {
   "codemirror_mode": {
    "name": "ipython",
    "version": 3
   },
   "file_extension": ".py",
   "mimetype": "text/x-python",
   "name": "python",
   "nbconvert_exporter": "python",
   "pygments_lexer": "ipython3",
   "version": "3.9.0-final"
  },
  "orig_nbformat": 2,
  "kernelspec": {
   "name": "python3",
   "display_name": "Python 3.9.0 64-bit",
   "metadata": {
    "interpreter": {
     "hash": "aee8b7b246df8f9039afb4144a1f6fd8d2ca17a180786b69acc140d282b71a49"
    }
   }
  }
 },
 "nbformat": 4,
 "nbformat_minor": 2,
 "cells": [
  {
   "cell_type": "code",
   "execution_count": 3,
   "metadata": {},
   "outputs": [
    {
     "output_type": "stream",
     "name": "stdout",
     "text": [
      "Part 1:\n",
      "Number of optimization rounds:  103\n",
      "Number of occupied seats:  2249\n",
      "Part 1:\n",
      "Number of optimization rounds:  86\n",
      "Number of occupied seats:  2023\n"
     ]
    }
   ],
   "source": [
    "from aoc_11_utils import read_matrix_from_txt, get_adjacent_cells, calc_seats\n",
    "import copy\n",
    "\n",
    "\n",
    "# slow impl on both parts, could be improved\n",
    "\n",
    "# general\n",
    "seat_layout = read_matrix_from_txt('aoc_11_data.txt')\n",
    "adjacency = [(i,j) for i in (-1,0,1) for j in (-1,0,1) if not (i == j == 0)]\n",
    "\n",
    "\n",
    "# part 1\n",
    "layout = copy.deepcopy(seat_layout)\n",
    "limit = 4\n",
    "direction = False\n",
    "print('Part 1:')\n",
    "print('Number of occupied seats: ', sum(x.count('#') for x in calc_seats(layout, adjacency, limit, direction)))\n",
    "\n",
    "\n",
    "# part 2\n",
    "layout = copy.deepcopy(seat_layout)\n",
    "limit = 5\n",
    "direction = True\n",
    "print('Part 1:')\n",
    "print('Number of occupied seats: ', sum(x.count('#') for x in calc_seats(layout, adjacency, limit, direction)))\n"
   ]
  },
  {
   "cell_type": "code",
   "execution_count": null,
   "metadata": {},
   "outputs": [],
   "source": []
  }
 ]
}