{
 "metadata": {
  "language_info": {
   "codemirror_mode": {
    "name": "ipython",
    "version": 3
   },
   "file_extension": ".py",
   "mimetype": "text/x-python",
   "name": "python",
   "nbconvert_exporter": "python",
   "pygments_lexer": "ipython3",
   "version": "3.9.0-final"
  },
  "orig_nbformat": 2,
  "kernelspec": {
   "name": "python3",
   "display_name": "Python 3.9.0 64-bit",
   "metadata": {
    "interpreter": {
     "hash": "aee8b7b246df8f9039afb4144a1f6fd8d2ca17a180786b69acc140d282b71a49"
    }
   }
  }
 },
 "nbformat": 4,
 "nbformat_minor": 2,
 "cells": [
  {
   "cell_type": "code",
   "execution_count": 1,
   "metadata": {},
   "outputs": [
    {
     "output_type": "stream",
     "name": "stdout",
     "text": [
      "4782\n(1118684865113056, 2990035291265711)\n"
     ]
    }
   ],
   "source": [
    "from aoc_13_utils import read_lines_from_txt\n",
    "from itertools import count\n",
    "from sympy.ntheory.modular import solve_congruence\n",
    "\n",
    "\n",
    "# general\n",
    "notes = read_lines_from_txt('aoc_13_data.txt')\n",
    "\n",
    "\n",
    "# part 1\n",
    "start_tmstmp = int(notes[0])\n",
    "dep_times = [int(time) for i, time in enumerate(notes[1].split(',')) if time != 'x']\n",
    "try:\n",
    "    for tmstmp in count(start_tmstmp):\n",
    "        for departure in dep_times:\n",
    "            if tmstmp % departure == 0:\n",
    "                print((tmstmp - start_tmstmp) * departure)\n",
    "                raise StopIteration\n",
    "except StopIteration:\n",
    "    pass\n",
    "\n",
    "\n",
    "# part 2\n",
    "offset_dep_times = [(-i, int(time)) for i, time in enumerate(notes[1].split(',')) if time != 'x']\n",
    "print(solve_congruence(*offset_dep_times))\n",
    "\n",
    "# this will iteratively (and eventually) give a result\n",
    "# but it's too slow for the number range we operate in here\n",
    "# could be enhanced using parallel execution, but would still be slow on a consumer cpu\n",
    "# gpu impl possible?\n",
    "# for i in count(start=100000000000000):\n",
    "#     if i % 10000000 == 0:\n",
    "#         print(i)\n",
    "#     counter = 0\n",
    "#     for odt in offset_dep_times:\n",
    "#         if (odt[0] + i) % odt[1] == 0:\n",
    "#             counter += 1\n",
    "#         else:\n",
    "#             break\n",
    "#     if counter == len(offset_dep_times):\n",
    "#         break\n",
    "# print(i)\n",
    "\n"
   ]
  },
  {
   "cell_type": "code",
   "execution_count": null,
   "metadata": {},
   "outputs": [],
   "source": []
  }
 ]
}