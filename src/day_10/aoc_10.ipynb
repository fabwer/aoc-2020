{
 "metadata": {
  "language_info": {
   "codemirror_mode": {
    "name": "ipython",
    "version": 3
   },
   "file_extension": ".py",
   "mimetype": "text/x-python",
   "name": "python",
   "nbconvert_exporter": "python",
   "pygments_lexer": "ipython3",
   "version": "3.9.0-final"
  },
  "orig_nbformat": 2,
  "kernelspec": {
   "name": "python3",
   "display_name": "Python 3.9.0 64-bit",
   "metadata": {
    "interpreter": {
     "hash": "aee8b7b246df8f9039afb4144a1f6fd8d2ca17a180786b69acc140d282b71a49"
    }
   }
  }
 },
 "nbformat": 4,
 "nbformat_minor": 2,
 "cells": [
  {
   "cell_type": "code",
   "execution_count": 1,
   "metadata": {},
   "outputs": [
    {
     "output_type": "stream",
     "name": "stdout",
     "text": [
      "2232\n173625106649344\n"
     ]
    }
   ],
   "source": [
    "from aoc_10_utils import read_int_from_txt\n",
    "from collections import defaultdict\n",
    "\n",
    "\n",
    "adapters = read_int_from_txt('aoc_10_data.txt')\n",
    "adapters = [0] + sorted(adapters) + [max(adapters) + 3]\n",
    "\n",
    "# part 1\n",
    "count_one = 0\n",
    "count_three = 0\n",
    "for i, num in enumerate(adapters):\n",
    "    if i > 0 and i < len(adapters):\n",
    "        if (adapters[i] - adapters[i-1]) == 1:\n",
    "            count_one += 1\n",
    "        if (adapters[i] - adapters[i-1]) == 3:\n",
    "            count_three += 1\n",
    "\n",
    "print(count_one * count_three)\n",
    "\n",
    "# part 2\n",
    "valid = defaultdict(int)\n",
    "valid[0] = 1\n",
    "for i, num in enumerate(adapters):\n",
    "    if i < len(adapters):\n",
    "        if i > 0:\n",
    "            if adapters[i] - adapters[i-1] == 1 or adapters[i] - adapters[i-1] == 2 or adapters[i] - adapters[i-1] == 3:\n",
    "                valid[i] += valid[i-1]\n",
    "        if i > 1:\n",
    "            if adapters[i] - adapters[i-2] == 2 or adapters[i] - adapters[i-2] == 3:\n",
    "                valid[i] += valid[i-2]\n",
    "        if i > 2:\n",
    "            if adapters[i] - adapters[i-3] == 3:\n",
    "                valid[i] += valid[i-3]\n",
    "\n",
    "print(valid[len(adapters) - 1])\n"
   ]
  },
  {
   "cell_type": "code",
   "execution_count": null,
   "metadata": {},
   "outputs": [],
   "source": []
  }
 ]
}