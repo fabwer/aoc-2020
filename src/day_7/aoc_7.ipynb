{
 "metadata": {
  "language_info": {
   "codemirror_mode": {
    "name": "ipython",
    "version": 3
   },
   "file_extension": ".py",
   "mimetype": "text/x-python",
   "name": "python",
   "nbconvert_exporter": "python",
   "pygments_lexer": "ipython3",
   "version": "3.9.0-final"
  },
  "orig_nbformat": 2,
  "kernelspec": {
   "name": "python3",
   "display_name": "Python 3.9.0 64-bit",
   "metadata": {
    "interpreter": {
     "hash": "aee8b7b246df8f9039afb4144a1f6fd8d2ca17a180786b69acc140d282b71a49"
    }
   }
  }
 },
 "nbformat": 4,
 "nbformat_minor": 2,
 "cells": [
  {
   "cell_type": "code",
   "execution_count": 3,
   "metadata": {},
   "outputs": [
    {
     "output_type": "stream",
     "name": "stdout",
     "text": [
      "300\n",
      "8030\n"
     ]
    }
   ],
   "source": [
    "from aoc_7_utils import read_data_from_txt, generate_bags_graph, count_bags\n",
    "import igraph as ig\n",
    "\n",
    "\n",
    "rules = read_data_from_txt(\"aoc_7_data.txt\")\n",
    "\n",
    "# part 1\n",
    "rules_graph = generate_bags_graph(rules)\n",
    "\n",
    "print(rules_graph.neighborhood_size(\"shinygold\", order=rules_graph.diameter(), mode=\"in\", mindist=1))\n",
    "\n",
    "ig.plot(rules_graph, target=\"aoc_7_plot.svg\")\n",
    "\n",
    "# part 2\n",
    "print(count_bags(rules_graph.vs.find(name=\"shinygold\")) - 1)\n",
    "\n"
   ]
  },
  {
   "source": [
    "![Plot](aoc_7_plot.svg \"Graph Plot\")\n",
    "\n"
   ],
   "cell_type": "markdown",
   "metadata": {}
  }
 ]
}