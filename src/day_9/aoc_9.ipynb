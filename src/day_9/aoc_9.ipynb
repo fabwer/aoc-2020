{
 "metadata": {
  "language_info": {
   "codemirror_mode": {
    "name": "ipython",
    "version": 3
   },
   "file_extension": ".py",
   "mimetype": "text/x-python",
   "name": "python",
   "nbconvert_exporter": "python",
   "pygments_lexer": "ipython3",
   "version": "3.9.0-final"
  },
  "orig_nbformat": 2,
  "kernelspec": {
   "name": "python3",
   "display_name": "Python 3.9.0 64-bit",
   "metadata": {
    "interpreter": {
     "hash": "aee8b7b246df8f9039afb4144a1f6fd8d2ca17a180786b69acc140d282b71a49"
    }
   }
  }
 },
 "nbformat": 4,
 "nbformat_minor": 2,
 "cells": [
  {
   "cell_type": "code",
   "execution_count": 2,
   "metadata": {},
   "outputs": [
    {
     "output_type": "stream",
     "name": "stdout",
     "text": [
      "22406676\n2942387\n"
     ]
    }
   ],
   "source": [
    "from aoc_9_utils import read_int_from_txt\n",
    "\n",
    "\n",
    "codes = read_int_from_txt('aoc_9_data.txt')\n",
    "\n",
    "# part 1\n",
    "for i, code in enumerate(codes):\n",
    "    if i < 25:\n",
    "        continue\n",
    "    prev_list = codes[i-25:i]\n",
    "    if not any(code == code1 + code2 for code1 in prev_list for code2 in prev_list):\n",
    "        print(code)\n",
    "        break\n",
    "\n",
    "# part 2\n",
    "for size in range(2, len(codes)):\n",
    "    for i in range(len(codes) - size):\n",
    "        contiguous_set = codes[i:i+size]\n",
    "        if sum(contiguous_set) == n:\n",
    "            print(min(contiguous_set) + max(contiguous_set))\n",
    "\n"
   ]
  },
  {
   "cell_type": "code",
   "execution_count": null,
   "metadata": {},
   "outputs": [],
   "source": []
  }
 ]
}