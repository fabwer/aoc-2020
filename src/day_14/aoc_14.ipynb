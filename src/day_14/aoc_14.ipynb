{
 "metadata": {
  "language_info": {
   "codemirror_mode": {
    "name": "ipython",
    "version": 3
   },
   "file_extension": ".py",
   "mimetype": "text/x-python",
   "name": "python",
   "nbconvert_exporter": "python",
   "pygments_lexer": "ipython3",
   "version": "3.9.0-final"
  },
  "orig_nbformat": 2,
  "kernelspec": {
   "name": "python3",
   "display_name": "Python 3.9.0 64-bit",
   "metadata": {
    "interpreter": {
     "hash": "aee8b7b246df8f9039afb4144a1f6fd8d2ca17a180786b69acc140d282b71a49"
    }
   }
  }
 },
 "nbformat": 4,
 "nbformat_minor": 2,
 "cells": [
  {
   "cell_type": "code",
   "execution_count": 6,
   "metadata": {},
   "outputs": [
    {
     "output_type": "stream",
     "name": "stdout",
     "text": [
      "11612740949946\n",
      "3394509207186\n"
     ]
    }
   ],
   "source": [
    "from aoc_14_utils import read_lines_from_txt\n",
    "from itertools import product\n",
    "import re\n",
    "\n",
    "\n",
    "# general\n",
    "prog = read_lines_from_txt('aoc_14_data.txt')\n",
    "\n",
    "\n",
    "# part 1\n",
    "memory = {}\n",
    "for line in prog:\n",
    "    if line[:4] == 'mask':\n",
    "        mask = line[7:]\n",
    "    else:\n",
    "        address, value = list(map(int, re.findall('-?\\d+', line)))\n",
    "        byte_seq = list(bin(value)[2:].zfill(len(mask)))\n",
    "        for i, entry in enumerate(mask):\n",
    "            if entry != 'X':\n",
    "                byte_seq[i] = entry\n",
    "        value = int(''.join(byte_seq), 2)\n",
    "        memory[address] = value\n",
    "print(sum(memory.values()))\n",
    "\n",
    "\n",
    "# part 2\n",
    "memory = {}\n",
    "for line in prog:\n",
    "    if line[:4] == 'mask':\n",
    "        mask = line[7:]\n",
    "    else:\n",
    "        address, value = list(map(int, re.findall('-?\\d+', line)))\n",
    "        byte_seq = list(bin(address)[2:].zfill(len(mask)))\n",
    "        for i, entry in enumerate(mask):\n",
    "            if entry != '0':\n",
    "                byte_seq[i] = entry\n",
    "        possible_byte_seq = []\n",
    "        x_indexes = [i for i, x in enumerate(byte_seq) if x == 'X']\n",
    "        for floating in product(['0', '1'], repeat=len(x_indexes)):\n",
    "            new_byte_seq = list(byte_seq)\n",
    "            for i, new_value in zip(x_indexes, floating):\n",
    "                new_byte_seq[i] = new_value\n",
    "            possible_byte_seq.append(new_byte_seq)\n",
    "        for new_byte_seq in possible_byte_seq:\n",
    "            # this would be quicker, if we already had bit as number, not as string\n",
    "            # address = 0\n",
    "            # for bit in list(map(int, new_byte_seq)):\n",
    "            #     address = (address << 1) | int(bit)\n",
    "            address = int(''.join(new_byte_seq), 2)\n",
    "            memory[address] = value\n",
    "print(sum(memory.values()))\n"
   ]
  },
  {
   "cell_type": "code",
   "execution_count": null,
   "metadata": {},
   "outputs": [],
   "source": []
  }
 ]
}