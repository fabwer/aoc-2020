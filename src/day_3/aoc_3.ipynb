{
 "metadata": {
  "language_info": {
   "codemirror_mode": {
    "name": "ipython",
    "version": 3
   },
   "file_extension": ".py",
   "mimetype": "text/x-python",
   "name": "python",
   "nbconvert_exporter": "python",
   "pygments_lexer": "ipython3",
   "version": "3.9.0-final"
  },
  "orig_nbformat": 2,
  "kernelspec": {
   "name": "python3",
   "display_name": "Python 3.9.0 64-bit",
   "metadata": {
    "interpreter": {
     "hash": "aee8b7b246df8f9039afb4144a1f6fd8d2ca17a180786b69acc140d282b71a49"
    }
   }
  }
 },
 "nbformat": 4,
 "nbformat_minor": 2,
 "cells": [
  {
   "cell_type": "code",
   "execution_count": 13,
   "metadata": {
    "tags": []
   },
   "outputs": [
    {
     "output_type": "stream",
     "name": "stdout",
     "text": [
      "[61, 257, 64, 47, 37]\n1744787392\n"
     ]
    }
   ],
   "source": [
    "from aoc_3_utils import read_matrix_from_txt\n",
    "import numpy as np\n",
    "\n",
    "area = read_matrix_from_txt(\"aoc_3_data.txt\")\n",
    "\n",
    "i = 0\n",
    "j = 0\n",
    "hits_arr = [0] * 5\n",
    "moves = [[1, 1], [3, 1], [5, 1], [7, 1], [1, 2]]\n",
    "\n",
    "for move in moves:\n",
    "    for row in area[move[1]::move[1]]:\n",
    "        i = (i + move[0]) % col_max\n",
    "        if row[i] == \"#\":\n",
    "            hits_arr[j] += 1\n",
    "    i = 0\n",
    "    j += 1\n",
    "\n",
    "# maybe try this later\n",
    "# [print(elem) for (index, elem) in enumerate(row) if elem == \"#\" and index ==  for move in moves for row in area[move[1]::move[1]]]\n",
    "\n",
    "print(hits_arr)\n",
    "print(np.prod(hits_arr))\n"
   ]
  },
  {
   "cell_type": "code",
   "execution_count": null,
   "metadata": {},
   "outputs": [],
   "source": []
  }
 ]
}