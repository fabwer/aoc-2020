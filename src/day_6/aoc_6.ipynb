{
 "metadata": {
  "language_info": {
   "codemirror_mode": {
    "name": "ipython",
    "version": 3
   },
   "file_extension": ".py",
   "mimetype": "text/x-python",
   "name": "python",
   "nbconvert_exporter": "python",
   "pygments_lexer": "ipython3",
   "version": "3.9.0-final"
  },
  "orig_nbformat": 2,
  "kernelspec": {
   "name": "python3",
   "display_name": "Python 3.9.0 64-bit",
   "metadata": {
    "interpreter": {
     "hash": "aee8b7b246df8f9039afb4144a1f6fd8d2ca17a180786b69acc140d282b71a49"
    }
   }
  }
 },
 "nbformat": 4,
 "nbformat_minor": 2,
 "cells": [
  {
   "cell_type": "code",
   "execution_count": 10,
   "metadata": {},
   "outputs": [
    {
     "output_type": "stream",
     "name": "stdout",
     "text": [
      "6170\n2947\n"
     ]
    }
   ],
   "source": [
    "from aoc_6_utils import read_data_from_txt\n",
    "\n",
    "groups = read_data_from_txt(\"aoc_6_data.txt\")\n",
    "\n",
    "# part 1\n",
    "print(sum([len(set(group.replace(\"\\n\", \"\"))) for group in groups]))\n",
    "\n",
    "# part 2\n",
    "# for future me: * unwraps a list (and ** unwraps values in a dict)\n",
    "print(sum([len(set.intersection(*map(set, group.split('\\n')))) for group in groups]))\n"
   ]
  },
  {
   "cell_type": "code",
   "execution_count": null,
   "metadata": {},
   "outputs": [],
   "source": []
  }
 ]
}