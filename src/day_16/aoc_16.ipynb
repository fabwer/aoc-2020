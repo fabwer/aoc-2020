{
 "metadata": {
  "language_info": {
   "codemirror_mode": {
    "name": "ipython",
    "version": 3
   },
   "file_extension": ".py",
   "mimetype": "text/x-python",
   "name": "python",
   "nbconvert_exporter": "python",
   "pygments_lexer": "ipython3",
   "version": "3.9.0-final"
  },
  "orig_nbformat": 2,
  "kernelspec": {
   "name": "python3",
   "display_name": "Python 3.9.0 64-bit",
   "metadata": {
    "interpreter": {
     "hash": "aee8b7b246df8f9039afb4144a1f6fd8d2ca17a180786b69acc140d282b71a49"
    }
   }
  }
 },
 "nbformat": 4,
 "nbformat_minor": 2,
 "cells": [
  {
   "cell_type": "code",
   "execution_count": 2,
   "metadata": {},
   "outputs": [
    {
     "output_type": "stream",
     "name": "stdout",
     "text": [
      "23044\n",
      "3765150732757\n"
     ]
    }
   ],
   "source": [
    "from aoc_16_utils import read_data_from_txt\n",
    "import re, math\n",
    "\n",
    "\n",
    "# general\n",
    "ticket_data = read_data_from_txt('aoc_16_data.txt')\n",
    "ranges = [list(map(int, re.findall('\\d+', r))) for r in ticket_data[:20]]\n",
    "your = [int(y) for y in ticket_data[22].split(',')]\n",
    "nearby = [list(map(int, re.findall('\\d+', n))) for n in ticket_data[25:]]\n",
    "\n",
    "\n",
    "# part 1\n",
    "valid_nums = set()\n",
    "for r in ranges:\n",
    "    valid_nums.update(set(range(r[0], r[1] + 1)))\n",
    "    valid_nums.update(set(range(r[2], r[3] + 1)))\n",
    "\n",
    "print(sum(num for line in nearby for num in line if num not in valid_nums))\n",
    "\n",
    "\n",
    "# part 2\n",
    "valid_nearby = [line for line in nearby if all(num in valid_nums for num in line)]\n",
    "\n",
    "ranges_dict = {}\n",
    "for i, r in enumerate(ticket_data[:20]):\n",
    "    ranges_dict[r.split(':')[0]] = list(range(ranges[i][0], ranges[i][1] + 1)) + list(range(ranges[i][2], ranges[i][3] + 1))\n",
    "\n",
    "fields = [set(ranges_dict) for _ in range(len(valid_nearby[0]))]\n",
    "for line in valid_nearby:\n",
    "    for i, num in enumerate(line):\n",
    "        for k, v in ranges_dict.items():\n",
    "            if num not in v:\n",
    "                fields[i].remove(k)\n",
    "\n",
    "used_fields = [''] * (len(valid_nearby[0]))\n",
    "\n",
    "for i in range(len(valid_nearby[0])):\n",
    "    for j, field in enumerate(fields):\n",
    "        if len(field) == i + 1:\n",
    "            for f in field:\n",
    "                if f not in used_fields:\n",
    "                    used_fields[j] = f\n",
    "\n",
    "print(math.prod(y for y, uf in zip(your, used_fields) if 'departure' in uf))\n",
    "\n"
   ]
  },
  {
   "cell_type": "code",
   "execution_count": null,
   "metadata": {},
   "outputs": [],
   "source": []
  }
 ]
}