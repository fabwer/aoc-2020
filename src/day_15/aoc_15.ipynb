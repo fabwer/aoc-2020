{
 "metadata": {
  "language_info": {
   "codemirror_mode": {
    "name": "ipython",
    "version": 3
   },
   "file_extension": ".py",
   "mimetype": "text/x-python",
   "name": "python",
   "nbconvert_exporter": "python",
   "pygments_lexer": "ipython3",
   "version": "3.9.0-final"
  },
  "orig_nbformat": 2,
  "kernelspec": {
   "name": "python3",
   "display_name": "Python 3.9.0 64-bit",
   "metadata": {
    "interpreter": {
     "hash": "aee8b7b246df8f9039afb4144a1f6fd8d2ca17a180786b69acc140d282b71a49"
    }
   }
  }
 },
 "nbformat": 4,
 "nbformat_minor": 2,
 "cells": [
  {
   "cell_type": "code",
   "execution_count": 2,
   "metadata": {},
   "outputs": [
    {
     "output_type": "stream",
     "name": "stdout",
     "text": [
      "694\n",
      "21768614\n"
     ]
    }
   ],
   "source": [
    "from aoc_15_utils import read_numbers_from_txt, play_memory_game\n",
    "\n",
    "\n",
    "# general\n",
    "starting_nums = read_numbers_from_txt('aoc_15_data.txt')\n",
    "\n",
    "\n",
    "# part 1\n",
    "print(play_memory_game(starting_nums, 2020))\n",
    "\n",
    "\n",
    "# part 2\n",
    "print(play_memory_game(starting_nums, 30000000))"
   ]
  },
  {
   "cell_type": "code",
   "execution_count": null,
   "metadata": {},
   "outputs": [],
   "source": []
  }
 ]
}