{
 "metadata": {
  "language_info": {
   "codemirror_mode": {
    "name": "ipython",
    "version": 3
   },
   "file_extension": ".py",
   "mimetype": "text/x-python",
   "name": "python",
   "nbconvert_exporter": "python",
   "pygments_lexer": "ipython3",
   "version": "3.9.0-final"
  },
  "orig_nbformat": 2,
  "kernelspec": {
   "name": "python3",
   "display_name": "Python 3.9.0 64-bit",
   "metadata": {
    "interpreter": {
     "hash": "aee8b7b246df8f9039afb4144a1f6fd8d2ca17a180786b69acc140d282b71a49"
    }
   }
  }
 },
 "nbformat": 4,
 "nbformat_minor": 2,
 "cells": [
  {
   "source": [
    "## Day 1\n",
    "Could be enhanced by implementing combination yourself and breaking the loop prematurely after finding a solution."
   ],
   "cell_type": "markdown",
   "metadata": {}
  },
  {
   "cell_type": "code",
   "execution_count": 1,
   "metadata": {},
   "outputs": [
    {
     "output_type": "stream",
     "name": "stdout",
     "text": [
      "['x: 1486 y: 534 R: 793524']\n",
      "['x: 686 y: 71 z: 1263 R: 61515678']\n"
     ]
    }
   ],
   "source": [
    "import itertools\n",
    "from filereader import read_vector_from_txt\n",
    "\n",
    "report = read_vector_from_txt(\"aoc_1_data.txt\")\n",
    "\n",
    "# part 1\n",
    "print(['x: ' + str(x) + ' y: ' + str(y) + ' R: ' + str(x * y)\n",
    "       for x, y in list(itertools.combinations(report, 2)) if x + y == 2020])\n",
    "\n",
    "# part 2\n",
    "print(['x: ' + str(x) + ' y: ' + str(y) + ' z: ' + str(z) + ' R: ' + str(x * y * z)\n",
    "       for x, y, z in list(itertools.combinations(report, 3)) if x + y + z == 2020])\n"
   ]
  },
  {
   "cell_type": "code",
   "execution_count": null,
   "metadata": {},
   "outputs": [],
   "source": []
  }
 ]
}