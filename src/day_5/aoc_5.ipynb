{
 "metadata": {
  "language_info": {
   "codemirror_mode": {
    "name": "ipython",
    "version": 3
   },
   "file_extension": ".py",
   "mimetype": "text/x-python",
   "name": "python",
   "nbconvert_exporter": "python",
   "pygments_lexer": "ipython3",
   "version": "3.9.0-final"
  },
  "orig_nbformat": 2,
  "kernelspec": {
   "name": "python3",
   "display_name": "Python 3.9.0 64-bit",
   "metadata": {
    "interpreter": {
     "hash": "aee8b7b246df8f9039afb4144a1f6fd8d2ca17a180786b69acc140d282b71a49"
    }
   }
  }
 },
 "nbformat": 4,
 "nbformat_minor": 2,
 "cells": [
  {
   "cell_type": "code",
   "execution_count": 1,
   "metadata": {},
   "outputs": [
    {
     "output_type": "stream",
     "name": "stdout",
     "text": [
      "885\n623\n"
     ]
    }
   ],
   "source": [
    "from aoc_5_utils import read_binary_numbers_from_txt\n",
    "\n",
    "boarding = read_binary_numbers_from_txt('aoc_5_data.txt')\n",
    "\n",
    "ids = [id[0] * 8 + id[1] for id in boarding]\n",
    "\n",
    "# part 1\n",
    "print(max(ids))\n",
    "\n",
    "# part 2\n",
    "print([id_combo for id_combo in zip(range(min(ids), max(ids) + 1), sorted(ids)) if id_combo[0] != id_combo[1]][0][0])\n"
   ]
  },
  {
   "cell_type": "code",
   "execution_count": null,
   "metadata": {},
   "outputs": [],
   "source": []
  }
 ]
}