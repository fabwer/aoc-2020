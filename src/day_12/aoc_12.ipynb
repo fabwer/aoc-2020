{
 "metadata": {
  "language_info": {
   "codemirror_mode": {
    "name": "ipython",
    "version": 3
   },
   "file_extension": ".py",
   "mimetype": "text/x-python",
   "name": "python",
   "nbconvert_exporter": "python",
   "pygments_lexer": "ipython3",
   "version": "3.9.0-final"
  },
  "orig_nbformat": 2,
  "kernelspec": {
   "name": "python3",
   "display_name": "Python 3.9.0 64-bit",
   "metadata": {
    "interpreter": {
     "hash": "aee8b7b246df8f9039afb4144a1f6fd8d2ca17a180786b69acc140d282b71a49"
    }
   }
  }
 },
 "nbformat": 4,
 "nbformat_minor": 2,
 "cells": [
  {
   "cell_type": "code",
   "execution_count": 2,
   "metadata": {},
   "outputs": [
    {
     "output_type": "stream",
     "name": "stdout",
     "text": [
      "1601.0\n13340.0\n"
     ]
    }
   ],
   "source": [
    "from aoc_12_utils import read_lines_from_txt\n",
    "\n",
    "\n",
    "# general\n",
    "movements = [(movement[0], int(movement[1:])) for movement in read_lines_from_txt('aoc_12_data.txt')]\n",
    "\n",
    "# directions and rotations in complex plane\n",
    "# could also be done in Z^2, but complex is more convenient here\n",
    "directions = {'N': 1j, 'E': 1, 'S': -1j, 'W': -1}\n",
    "rotations = {'L': 1j, 'R': -1j}\n",
    "\n",
    "\n",
    "# part 1\n",
    "position = 0\n",
    "# ship is looking east (1 + 0j in complex plane)\n",
    "ship_direction = 1\n",
    "for movement, value in movements:\n",
    "    if movement in directions:\n",
    "        position += directions[movement] * value\n",
    "    elif movement in rotations:\n",
    "        ship_direction *= pow(rotations[movement], (value / 90))\n",
    "    else:\n",
    "        position += ship_direction * value\n",
    "\n",
    "print(abs(position.real) + abs(position.imag))\n",
    "\n",
    "\n",
    "# part 2\n",
    "position = 0\n",
    "waypoint = 10 + 1j\n",
    "for movement, value in movements:\n",
    "    if movement in directions:\n",
    "        waypoint += directions[movement] * value\n",
    "    elif movement in rotations:\n",
    "        waypoint *= pow(rotations[movement], (value / 90))\n",
    "    else:\n",
    "        position += waypoint * value\n",
    "\n",
    "print(abs(position.real) + abs(position.imag))\n"
   ]
  },
  {
   "cell_type": "code",
   "execution_count": null,
   "metadata": {},
   "outputs": [],
   "source": []
  }
 ]
}