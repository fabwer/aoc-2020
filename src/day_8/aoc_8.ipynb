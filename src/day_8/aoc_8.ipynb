{
 "metadata": {
  "language_info": {
   "codemirror_mode": {
    "name": "ipython",
    "version": 3
   },
   "file_extension": ".py",
   "mimetype": "text/x-python",
   "name": "python",
   "nbconvert_exporter": "python",
   "pygments_lexer": "ipython3",
   "version": "3.9.0-final"
  },
  "orig_nbformat": 2,
  "kernelspec": {
   "name": "python3",
   "display_name": "Python 3.9.0 64-bit",
   "metadata": {
    "interpreter": {
     "hash": "aee8b7b246df8f9039afb4144a1f6fd8d2ca17a180786b69acc140d282b71a49"
    }
   }
  }
 },
 "nbformat": 4,
 "nbformat_minor": 2,
 "cells": [
  {
   "cell_type": "code",
   "execution_count": 3,
   "metadata": {},
   "outputs": [
    {
     "output_type": "stream",
     "name": "stdout",
     "text": [
      "1487\n",
      "1607\n"
     ]
    }
   ],
   "source": [
    "from aoc_8_utils import read_data_from_txt, run\n",
    "import copy\n",
    "\n",
    "\n",
    "instructions = read_data_from_txt('aoc_8_data.txt')\n",
    "\n",
    "# part 1\n",
    "print(run(instructions.copy())[0])\n",
    "\n",
    "# Part two\n",
    "acc = 0\n",
    "for i in list((i for i, instruction in enumerate(instructions) if instruction[0] in ('nop', 'jmp'))):\n",
    "    instructions_copy = copy.deepcopy(instructions)\n",
    "    instructions_copy[i][0] = 'jmp' if instructions[i][0] == 'nop' else 'nop'\n",
    "    acc, stop = run(instructions_copy)\n",
    "    if stop:\n",
    "        break\n",
    "print(acc)\n",
    "\n"
   ]
  },
  {
   "cell_type": "code",
   "execution_count": null,
   "metadata": {},
   "outputs": [],
   "source": []
  }
 ]
}