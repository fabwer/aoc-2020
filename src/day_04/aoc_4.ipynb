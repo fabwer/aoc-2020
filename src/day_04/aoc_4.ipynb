{
 "metadata": {
  "language_info": {
   "codemirror_mode": {
    "name": "ipython",
    "version": 3
   },
   "file_extension": ".py",
   "mimetype": "text/x-python",
   "name": "python",
   "nbconvert_exporter": "python",
   "pygments_lexer": "ipython3",
   "version": "3.9.0-final"
  },
  "orig_nbformat": 2,
  "kernelspec": {
   "name": "python3",
   "display_name": "Python 3.9.0 64-bit",
   "metadata": {
    "interpreter": {
     "hash": "aee8b7b246df8f9039afb4144a1f6fd8d2ca17a180786b69acc140d282b71a49"
    }
   }
  }
 },
 "nbformat": 4,
 "nbformat_minor": 2,
 "cells": [
  {
   "cell_type": "code",
   "execution_count": 1,
   "metadata": {},
   "outputs": [
    {
     "output_type": "stream",
     "name": "stdout",
     "text": [
      "222\n140\n"
     ]
    }
   ],
   "source": [
    "from aoc_4_utils import read_data_from_txt, is_valid_simple, is_valid_adv\n",
    "\n",
    "passports = read_data_from_txt('aoc_4_data.txt')\n",
    "required = {'byr', 'iyr', 'eyr', 'hgt', 'hcl', 'ecl', 'pid'}\n",
    "\n",
    "# part 1\n",
    "print(len([passport for passport in passports if is_valid_simple(passport, required)]))\n",
    "\n",
    "# part 2\n",
    "print(len([passport for passport in passports if is_valid_adv(passport, required)]))\n",
    "\n"
   ]
  },
  {
   "cell_type": "code",
   "execution_count": null,
   "metadata": {},
   "outputs": [],
   "source": []
  }
 ]
}